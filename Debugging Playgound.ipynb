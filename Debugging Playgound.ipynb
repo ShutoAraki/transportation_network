{
 "cells": [
  {
   "cell_type": "code",
   "execution_count": 14,
   "metadata": {},
   "outputs": [],
   "source": [
    "import os\n",
    "import json\n",
    "import numpy as np\n",
    "import pandas as pd\n",
    "import networkx as nx\n",
    "import keplergl\n",
    "from helpers.helperFunctions import readJSONDiGraph, lineElevationProfile, euclideanDistance, writeJSONFile\n",
    "from shapely.geometry import Point, MultiPoint\n",
    "from path_calculation import calculate_cost"
   ]
  },
  {
   "cell_type": "code",
   "execution_count": 2,
   "metadata": {},
   "outputs": [],
   "source": [
    "filename = \"data/roadNetwork-Directed-TokyoArea-primary-v6.json\"\n",
    "G = readJSONDiGraph(filename)"
   ]
  },
  {
   "cell_type": "code",
   "execution_count": 3,
   "metadata": {},
   "outputs": [],
   "source": [
    "alpha = 1.5\n",
    "factor = 2 \n",
    "nodes = pd.DataFrame([{'id': node[0], **node[1]} for node in list(G.nodes(data=True))])\n",
    "G = calculate_cost(G, alpha=alpha, factor=factor)"
   ]
  },
  {
   "cell_type": "code",
   "execution_count": 11,
   "metadata": {},
   "outputs": [],
   "source": [
    "unG = G.to_undirected()"
   ]
  },
  {
   "cell_type": "code",
   "execution_count": 12,
   "metadata": {},
   "outputs": [
    {
     "ename": "NetworkXNoPath",
     "evalue": "No path to 1681663754.",
     "output_type": "error",
     "traceback": [
      "\u001b[0;31m---------------------------------------------------------------------------\u001b[0m",
      "\u001b[0;31mKeyError\u001b[0m                                  Traceback (most recent call last)",
      "\u001b[0;32m~/.pyenv/versions/3.6.5/envs/geoanalysis/lib/python3.6/site-packages/networkx/algorithms/shortest_paths/weighted.py\u001b[0m in \u001b[0;36mmulti_source_dijkstra\u001b[0;34m(G, sources, target, cutoff, weight)\u001b[0m\n\u001b[1;32m    743\u001b[0m     \u001b[0;32mtry\u001b[0m\u001b[0;34m:\u001b[0m\u001b[0;34m\u001b[0m\u001b[0m\n\u001b[0;32m--> 744\u001b[0;31m         \u001b[0;32mreturn\u001b[0m \u001b[0;34m(\u001b[0m\u001b[0mdist\u001b[0m\u001b[0;34m[\u001b[0m\u001b[0mtarget\u001b[0m\u001b[0;34m]\u001b[0m\u001b[0;34m,\u001b[0m \u001b[0mpaths\u001b[0m\u001b[0;34m[\u001b[0m\u001b[0mtarget\u001b[0m\u001b[0;34m]\u001b[0m\u001b[0;34m)\u001b[0m\u001b[0;34m\u001b[0m\u001b[0m\n\u001b[0m\u001b[1;32m    745\u001b[0m     \u001b[0;32mexcept\u001b[0m \u001b[0mKeyError\u001b[0m\u001b[0;34m:\u001b[0m\u001b[0;34m\u001b[0m\u001b[0m\n",
      "\u001b[0;31mKeyError\u001b[0m: 1681663754",
      "\nDuring handling of the above exception, another exception occurred:\n",
      "\u001b[0;31mNetworkXNoPath\u001b[0m                            Traceback (most recent call last)",
      "\u001b[0;32m<ipython-input-12-7b67d0a62e88>\u001b[0m in \u001b[0;36m<module>\u001b[0;34m\u001b[0m\n\u001b[1;32m      1\u001b[0m \u001b[0msourceId\u001b[0m \u001b[0;34m=\u001b[0m \u001b[0;36m517547602\u001b[0m\u001b[0;34m\u001b[0m\u001b[0m\n\u001b[1;32m      2\u001b[0m \u001b[0mtargetId\u001b[0m \u001b[0;34m=\u001b[0m \u001b[0;36m1681663754\u001b[0m\u001b[0;34m\u001b[0m\u001b[0m\n\u001b[0;32m----> 3\u001b[0;31m \u001b[0mpath\u001b[0m \u001b[0;34m=\u001b[0m \u001b[0mnx\u001b[0m\u001b[0;34m.\u001b[0m\u001b[0mdijkstra_path\u001b[0m\u001b[0;34m(\u001b[0m\u001b[0munG\u001b[0m\u001b[0;34m,\u001b[0m \u001b[0msourceId\u001b[0m\u001b[0;34m,\u001b[0m \u001b[0mtargetId\u001b[0m\u001b[0;34m,\u001b[0m \u001b[0mweight\u001b[0m\u001b[0;34m=\u001b[0m\u001b[0;34m'cost'\u001b[0m\u001b[0;34m)\u001b[0m\u001b[0;34m\u001b[0m\u001b[0m\n\u001b[0m",
      "\u001b[0;32m~/.pyenv/versions/3.6.5/envs/geoanalysis/lib/python3.6/site-packages/networkx/algorithms/shortest_paths/weighted.py\u001b[0m in \u001b[0;36mdijkstra_path\u001b[0;34m(G, source, target, weight)\u001b[0m\n\u001b[1;32m    165\u001b[0m     \"\"\"\n\u001b[1;32m    166\u001b[0m     (length, path) = single_source_dijkstra(G, source, target=target,\n\u001b[0;32m--> 167\u001b[0;31m                                             weight=weight)\n\u001b[0m\u001b[1;32m    168\u001b[0m     \u001b[0;32mreturn\u001b[0m \u001b[0mpath\u001b[0m\u001b[0;34m\u001b[0m\u001b[0m\n\u001b[1;32m    169\u001b[0m \u001b[0;34m\u001b[0m\u001b[0m\n",
      "\u001b[0;32m~/.pyenv/versions/3.6.5/envs/geoanalysis/lib/python3.6/site-packages/networkx/algorithms/shortest_paths/weighted.py\u001b[0m in \u001b[0;36msingle_source_dijkstra\u001b[0;34m(G, source, target, cutoff, weight)\u001b[0m\n\u001b[1;32m    478\u001b[0m     \"\"\"\n\u001b[1;32m    479\u001b[0m     return multi_source_dijkstra(G, {source}, cutoff=cutoff, target=target,\n\u001b[0;32m--> 480\u001b[0;31m                                  weight=weight)\n\u001b[0m\u001b[1;32m    481\u001b[0m \u001b[0;34m\u001b[0m\u001b[0m\n\u001b[1;32m    482\u001b[0m \u001b[0;34m\u001b[0m\u001b[0m\n",
      "\u001b[0;32m~/.pyenv/versions/3.6.5/envs/geoanalysis/lib/python3.6/site-packages/networkx/algorithms/shortest_paths/weighted.py\u001b[0m in \u001b[0;36mmulti_source_dijkstra\u001b[0;34m(G, sources, target, cutoff, weight)\u001b[0m\n\u001b[1;32m    744\u001b[0m         \u001b[0;32mreturn\u001b[0m \u001b[0;34m(\u001b[0m\u001b[0mdist\u001b[0m\u001b[0;34m[\u001b[0m\u001b[0mtarget\u001b[0m\u001b[0;34m]\u001b[0m\u001b[0;34m,\u001b[0m \u001b[0mpaths\u001b[0m\u001b[0;34m[\u001b[0m\u001b[0mtarget\u001b[0m\u001b[0;34m]\u001b[0m\u001b[0;34m)\u001b[0m\u001b[0;34m\u001b[0m\u001b[0m\n\u001b[1;32m    745\u001b[0m     \u001b[0;32mexcept\u001b[0m \u001b[0mKeyError\u001b[0m\u001b[0;34m:\u001b[0m\u001b[0;34m\u001b[0m\u001b[0m\n\u001b[0;32m--> 746\u001b[0;31m         \u001b[0;32mraise\u001b[0m \u001b[0mnx\u001b[0m\u001b[0;34m.\u001b[0m\u001b[0mNetworkXNoPath\u001b[0m\u001b[0;34m(\u001b[0m\u001b[0;34m\"No path to {}.\"\u001b[0m\u001b[0;34m.\u001b[0m\u001b[0mformat\u001b[0m\u001b[0;34m(\u001b[0m\u001b[0mtarget\u001b[0m\u001b[0;34m)\u001b[0m\u001b[0;34m)\u001b[0m\u001b[0;34m\u001b[0m\u001b[0m\n\u001b[0m\u001b[1;32m    747\u001b[0m \u001b[0;34m\u001b[0m\u001b[0m\n\u001b[1;32m    748\u001b[0m \u001b[0;34m\u001b[0m\u001b[0m\n",
      "\u001b[0;31mNetworkXNoPath\u001b[0m: No path to 1681663754."
     ]
    }
   ],
   "source": [
    "sourceId = 517547602\n",
    "targetId = 1681663754\n",
    "path = nx.dijkstra_path(unG, sourceId, targetId, weight='cost')"
   ]
  },
  {
   "cell_type": "code",
   "execution_count": 6,
   "metadata": {},
   "outputs": [
    {
     "data": {
      "text/plain": [
       "(31236733,\n",
       " 621545916,\n",
       " {'roadType': 'motorway',\n",
       "  'roadName': '首都高速11号台場線',\n",
       "  'oneWay': 1,\n",
       "  'speedLimit': 80.0,\n",
       "  'roadWidth': 21.0,\n",
       "  'driveSpeed': 60,\n",
       "  'capacity': 24000,\n",
       "  'numLanes': 3,\n",
       "  'modality': 'road',\n",
       "  'x1': 139.7578,\n",
       "  'y1': 35.64379520000001,\n",
       "  'x2': 139.7578196,\n",
       "  'y2': 35.6417602,\n",
       "  'distance': 0.225795,\n",
       "  'timeWeight': 0.000225795,\n",
       "  'elevationGain': -0.4900000095367432,\n",
       "  'cost': 642.371310228549})"
      ]
     },
     "execution_count": 6,
     "metadata": {},
     "output_type": "execute_result"
    }
   ],
   "source": [
    "list(G.edges(data=True))[0]"
   ]
  },
  {
   "cell_type": "code",
   "execution_count": 8,
   "metadata": {},
   "outputs": [
    {
     "name": "stderr",
     "output_type": "stream",
     "text": [
      "/Users/s_araki/.pyenv/versions/3.6.5/envs/geoanalysis/lib/python3.6/site-packages/IPython/core/interactiveshell.py:3063: DtypeWarning: Columns (4) have mixed types.Specify dtype option on import or set low_memory=False.\n",
      "  interactivity=interactivity, compiler=compiler, result=result)\n"
     ]
    }
   ],
   "source": [
    "links = pd.read_csv(\"data/filtered-elevationLinkData-TokyoArea-v6.csv\")"
   ]
  },
  {
   "cell_type": "code",
   "execution_count": 9,
   "metadata": {},
   "outputs": [
    {
     "name": "stdout",
     "output_type": "stream",
     "text": [
      "User Guide: https://docs.kepler.gl/docs/keplergl-jupyter\n",
      "Map saved to test_size.html!\n"
     ]
    }
   ],
   "source": [
    "kmap = keplergl.KeplerGl(height=400, data={\"edges\": links})\n",
    "kmap.save_to_html(file_name = \"test_size.html\")"
   ]
  },
  {
   "cell_type": "code",
   "execution_count": 15,
   "metadata": {},
   "outputs": [],
   "source": [
    "largest_cc = max(nx.weakly_connected_components(G), key=len)"
   ]
  },
  {
   "cell_type": "code",
   "execution_count": 18,
   "metadata": {},
   "outputs": [],
   "source": [
    "with open(\"data/roadNetwork-Directed-TokyoArea-with-cost-v6.json\", encoding='utf-8-sig') as f:\n",
    "        js_graph = json.load(f)"
   ]
  },
  {
   "cell_type": "code",
   "execution_count": 23,
   "metadata": {},
   "outputs": [],
   "source": [
    "links = pd.DataFrame(js_graph['links'])\n",
    "is_member = lambda row: row.source in largest_cc or row.target in largest_cc\n",
    "primary_links = links.loc[links.apply(is_member, axis=1)]"
   ]
  },
  {
   "cell_type": "code",
   "execution_count": 24,
   "metadata": {},
   "outputs": [],
   "source": [
    "primaryG = nx.from_pandas_edgelist(primary_links, 'source', 'target', True, nx.DiGraph())"
   ]
  },
  {
   "cell_type": "code",
   "execution_count": 25,
   "metadata": {},
   "outputs": [],
   "source": [
    "writeJSONFile(primaryG, \"data/roadNetwork-Directed-TokyoArea-primary-v6.json\")"
   ]
  },
  {
   "cell_type": "code",
   "execution_count": 27,
   "metadata": {},
   "outputs": [
    {
     "data": {
      "text/plain": [
       "[31236733,\n",
       " 621545916,\n",
       " 621545917,\n",
       " 31236732,\n",
       " 1832774251,\n",
       " 1832774248,\n",
       " 31236568,\n",
       " 31236567,\n",
       " 31236566,\n",
       " 1832774235]"
      ]
     },
     "execution_count": 27,
     "metadata": {},
     "output_type": "execute_result"
    }
   ],
   "source": [
    "list(primaryG.nodes())[:10]"
   ]
  },
  {
   "cell_type": "code",
   "execution_count": 28,
   "metadata": {},
   "outputs": [
    {
     "data": {
      "text/plain": [
       "(31236733, {})"
      ]
     },
     "execution_count": 28,
     "metadata": {},
     "output_type": "execute_result"
    }
   ],
   "source": [
    "list(primaryG.nodes(data=True))[0]"
   ]
  },
  {
   "cell_type": "code",
   "execution_count": 29,
   "metadata": {},
   "outputs": [],
   "source": [
    "nodeData = pd.read_csv(\"data/filtered-nodeData-TokyoArea-v6.csv\")"
   ]
  },
  {
   "cell_type": "code",
   "execution_count": null,
   "metadata": {},
   "outputs": [],
   "source": [
    "for nodeID in list(primaryG.nodes()):\n",
    "    primaryG.nodes[nodeID]['elevation'] = nodeData.loc[nodeData.id == nodeID].elevation.values[0]"
   ]
  },
  {
   "cell_type": "code",
   "execution_count": null,
   "metadata": {},
   "outputs": [],
   "source": [
    "list(primaryG.nodes(data=True))[0]"
   ]
  },
  {
   "cell_type": "code",
   "execution_count": null,
   "metadata": {},
   "outputs": [],
   "source": [
    "writeJSONFile(primaryG, \"data/roadNetwork-Directed-TokyoArea-primary-v6.json\")"
   ]
  },
  {
   "cell_type": "code",
   "execution_count": null,
   "metadata": {},
   "outputs": [],
   "source": []
  }
 ],
 "metadata": {
  "kernelspec": {
   "display_name": "Python 3",
   "language": "python",
   "name": "python3"
  },
  "language_info": {
   "codemirror_mode": {
    "name": "ipython",
    "version": 3
   },
   "file_extension": ".py",
   "mimetype": "text/x-python",
   "name": "python",
   "nbconvert_exporter": "python",
   "pygments_lexer": "ipython3",
   "version": "3.6.5"
  }
 },
 "nbformat": 4,
 "nbformat_minor": 4
}
